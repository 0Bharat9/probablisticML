{
 "cells": [
  {
   "cell_type": "code",
   "execution_count": 8,
   "id": "c86bbfab-81ac-4546-863a-ff69e17beb41",
   "metadata": {},
   "outputs": [],
   "source": [
    "from IPython.display import Markdown, display\n",
    "from jax import vmap\n",
    "import array_to_latex as a2l\n",
    "import jax.numpy as jnp\n",
    "import numpy as np"
   ]
  },
  {
   "cell_type": "code",
   "execution_count": 9,
   "id": "7caffbf9-9629-4190-be4f-339df2c749ff",
   "metadata": {},
   "outputs": [],
   "source": [
    "def ltx(a, fmt):\n",
    "    return a2l.to_ltx(np.array(a), frmt = fmt, print_out = False)\n",
    "\n",
    "def P_a(a):\n",
    "    p = 0.5\n",
    "    return a*p + (~a)*(1-p)\n",
    "\n",
    "def P_b(b):\n",
    "    p=0.5\n",
    "    return b*p + (~b)*(1-p)\n",
    "\n",
    "def P_c_ab(c,a,b):\n",
    "    return c == (a == b)\n",
    "\n",
    "def P_abc(a,b,c):\n",
    "    return P_a(a)*P_b(b)*P_c_ab(c,a,b)"
   ]
  },
  {
   "cell_type": "code",
   "execution_count": 10,
   "id": "0186644e-56c7-4281-96c2-597f62084a55",
   "metadata": {},
   "outputs": [],
   "source": [
    "values = jnp.asarray([0,1], dtype = bool)\n",
    "p = vmap(\n",
    "        vmap(\n",
    "            vmap(P_abc, in_axes=(None, None, 0)),in_axes=(None,0,None)),\n",
    "        in_axes=(0, None, None),)(values, values, values)\n"
   ]
  },
  {
   "cell_type": "code",
   "execution_count": 11,
   "id": "b25d0b8d-efe0-480e-9886-7815f07e1396",
   "metadata": {},
   "outputs": [
    {
     "data": {
      "text/markdown": [
       "$$p(A,B) =\\begin{bmatrix}\n",
       "    0.25 &    0.25\\\\\n",
       "    0.25 &    0.25\n",
       "\\end{bmatrix}, \\qquad p(A,C) =\\begin{bmatrix}\n",
       "    0.25 &    0.25\\\\\n",
       "    0.25 &    0.25\n",
       "\\end{bmatrix}, \\qquad p(B,C) =\\begin{bmatrix}\n",
       "    0.25 &    0.25\\\\\n",
       "    0.25 &    0.25\n",
       "\\end{bmatrix}$$"
      ],
      "text/plain": [
       "<IPython.core.display.Markdown object>"
      ]
     },
     "metadata": {},
     "output_type": "display_data"
    }
   ],
   "source": [
    "# axis names (that's what the notation \"p(A)\" means)\n",
    "\n",
    "A = 0\n",
    "B = 1\n",
    "C = 2\n",
    "\n",
    "p_AB = p.sum(axis=C)\n",
    "p_AC = p.sum(axis=B)\n",
    "p_BC = p.sum(axis=A)\n",
    "\n",
    "display(\n",
    "    Markdown(\n",
    "            \"$$p(A,B) =\"\n",
    "            + ltx(p_AB, \"{:6.2f}\")\n",
    "            + \", \\qquad \"\n",
    "            + \"p(A,C) =\"\n",
    "            + ltx(p_AC,\"{:6.2f}\")\n",
    "            + \", \\qquad \"\n",
    "            + \"p(B,C) =\"\n",
    "            + ltx(p_BC, \"{:6.2f}\")\n",
    "            + \"$$\"\n",
    "     )\n",
    ")\n",
    "\n"
   ]
  },
  {
   "cell_type": "code",
   "execution_count": 12,
   "id": "2e66b2da-280d-46b2-af16-f009e50922dc",
   "metadata": {},
   "outputs": [
    {
     "data": {
      "text/markdown": [
       "$$p(A) =\\begin{bmatrix}\n",
       "  0.50 &  0.50\n",
       "\\end{bmatrix}, \\qquad p(B) =\\begin{bmatrix}\n",
       "  0.50 &  0.50\n",
       "\\end{bmatrix}, \\qquad p(C) =\\begin{bmatrix}\n",
       "  0.50 &  0.50\n",
       "\\end{bmatrix}$$"
      ],
      "text/plain": [
       "<IPython.core.display.Markdown object>"
      ]
     },
     "metadata": {},
     "output_type": "display_data"
    }
   ],
   "source": [
    "p_A = p.sum(axis=(B,C))\n",
    "p_B = p.sum(axis=(A,C))\n",
    "p_C = p.sum(axis=(A,B))\n",
    "\n",
    "display(\n",
    "        Markdown(\n",
    "            \"$$p(A) =\"\n",
    "            + ltx(p_A, \"{:4.2f}\")\n",
    "            + \", \\qquad \"\n",
    "            + \"p(B) =\"\n",
    "            + ltx(p_B,\"{:4.2f}\")\n",
    "            + \", \\qquad \"\n",
    "            + \"p(C) =\"\n",
    "            + ltx(p_C, \"{:4.2f}\")\n",
    "            + \"$$\"\n",
    "        )\n",
    "    )"
   ]
  },
  {
   "cell_type": "code",
   "execution_count": 13,
   "id": "16af4365-f67e-4533-8eca-285c6a1b0278",
   "metadata": {},
   "outputs": [
    {
     "data": {
      "text/markdown": [
       "$$p(A,B\\mid C) =\\begin{bmatrix}\n",
       "  0.50 &  0.00\\\\\n",
       "  0.00 &  0.50\n",
       "\\end{bmatrix}, \\qquad p(A,C\\mid B) =\\begin{bmatrix}\n",
       "  0.50 &  0.00\\\\\n",
       "  0.00 &  0.50\n",
       "\\end{bmatrix}, \\qquad p(B,C\\mid A) =\\begin{bmatrix}\n",
       "  0.50 &  0.00\\\\\n",
       "  0.00 &  0.50\n",
       "\\end{bmatrix}$$"
      ],
      "text/plain": [
       "<IPython.core.display.Markdown object>"
      ]
     },
     "metadata": {},
     "output_type": "display_data"
    }
   ],
   "source": [
    "p_AB_C = (p / p.sum(axis=(A,B), keepdims=True))[:,:,1]\n",
    "p_AC_B = (p / p.sum(axis=(A,C), keepdims=True))[:,1,:]\n",
    "p_BC_A = (p / p.sum(axis=(B,C), keepdims=True))[1,:,:]\n",
    "\n",
    "display(\n",
    "        Markdown(\n",
    "            \"$$p(A,B\\mid C) =\"\n",
    "            + ltx(p_AB_C, \"{:4.2f}\")\n",
    "            + \", \\qquad \"\n",
    "            + \"p(A,C\\mid B) =\"\n",
    "            + ltx(p_AC_B,\"{:4.2f}\")\n",
    "            + \", \\qquad \"\n",
    "            + \"p(B,C\\mid A) =\"\n",
    "            + ltx(p_BC_A, \"{:4.2f}\")\n",
    "            + \"$$\"\n",
    "        )\n",
    "    )"
   ]
  },
  {
   "cell_type": "code",
   "execution_count": null,
   "id": "53274982-6393-437b-859e-eadadefa2d31",
   "metadata": {},
   "outputs": [],
   "source": []
  }
 ],
 "metadata": {
  "kernelspec": {
   "display_name": "Python 3 (ipykernel)",
   "language": "python",
   "name": "python3"
  },
  "language_info": {
   "codemirror_mode": {
    "name": "ipython",
    "version": 3
   },
   "file_extension": ".py",
   "mimetype": "text/x-python",
   "name": "python",
   "nbconvert_exporter": "python",
   "pygments_lexer": "ipython3",
   "version": "3.11.2"
  }
 },
 "nbformat": 4,
 "nbformat_minor": 5
}
