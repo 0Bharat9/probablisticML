{
 "cells": [
  {
   "cell_type": "code",
   "execution_count": 64,
   "id": "fcd83f04-92ad-4833-9c46-0381a09621eb",
   "metadata": {},
   "outputs": [],
   "source": [
    "import jax.numpy as jnp\n",
    "from jax import vmap\n",
    "from IPython.display import Markdown, display\n",
    "import numpy as np\n",
    "import array_to_latex as a2l"
   ]
  },
  {
   "cell_type": "code",
   "execution_count": 65,
   "id": "d338e08f-5b33-4a69-829b-ffd42763677a",
   "metadata": {},
   "outputs": [],
   "source": [
    "Burglar = 1e-3\n",
    "EQ = 1e-3\n",
    "f_a = 1e-3\n",
    "alpha_b = 0.99\n",
    "alpha_e = 0.01"
   ]
  },
  {
   "cell_type": "code",
   "execution_count": 91,
   "id": "e7360b84-ec9f-4293-bad3-16a9b7001fbb",
   "metadata": {},
   "outputs": [],
   "source": [
    "def ltx(a, fmt = \"{:6.2f}\"):\n",
    "    return a2l.to_ltx(np.array(a), frmt = fmt, print_out = False)"
   ]
  },
  {
   "cell_type": "code",
   "execution_count": 92,
   "id": "c47eb505-f3f4-4ae4-acbe-80f1d25945ba",
   "metadata": {},
   "outputs": [],
   "source": [
    "def P_b(b):\n",
    "    return b*(Burglar) + (~b)*(1.0 - Burglar)"
   ]
  },
  {
   "cell_type": "code",
   "execution_count": 93,
   "id": "a29fcd09-1bc2-4e43-93e3-f1f3126a2f9c",
   "metadata": {},
   "outputs": [],
   "source": [
    "def P_e(e):\n",
    "    return e*(EQ) + (~e)*(1.0-EQ)"
   ]
  },
  {
   "cell_type": "code",
   "execution_count": 94,
   "id": "641e6e4c-f5d4-4bd2-a97a-741a3f965b4d",
   "metadata": {},
   "outputs": [],
   "source": [
    "def P_a_be(a,b,e):\n",
    "    a0 = (1.0-f_a)*(1.0*(b == 0) + (1.0-alpha_b)*(b == 1))*(1.0*(e == 0) + (1.0 - alpha_e)*(e == 1))\n",
    "    return (a==0)*a0 + (a==1)*(1.0-a0)"
   ]
  },
  {
   "cell_type": "code",
   "execution_count": 95,
   "id": "7ca85b60-d972-4f7f-9a3d-57e83c894cb0",
   "metadata": {},
   "outputs": [],
   "source": [
    "def P_abe(a, b, e):\n",
    "    return P_b(b)*P_e(e)*P_a_be(a,b,e)"
   ]
  },
  {
   "cell_type": "code",
   "execution_count": 96,
   "id": "78fe3b09-f11a-4107-bd04-20974502e24b",
   "metadata": {},
   "outputs": [],
   "source": [
    "values = jnp.asarray([0,1], dtype = bool)"
   ]
  },
  {
   "cell_type": "code",
   "execution_count": 97,
   "id": "05af490d-8797-4e68-aaea-7d1ac04531a0",
   "metadata": {},
   "outputs": [],
   "source": [
    "p = vmap(\n",
    "        vmap(\n",
    "            vmap(P_abe, in_axes = (None, None, 0)),\n",
    "        in_axes = (None, 0, None)),\n",
    "    in_axes = (0, None, None))(values, values, values)"
   ]
  },
  {
   "cell_type": "code",
   "execution_count": 98,
   "id": "61ed6bff-8fd0-486b-9844-9a5e3fc1bf25",
   "metadata": {},
   "outputs": [],
   "source": [
    "A = 0\n",
    "B = 1\n",
    "E = 2"
   ]
  },
  {
   "cell_type": "code",
   "execution_count": 99,
   "id": "ab128dab-4b26-43a8-b785-36387268a53d",
   "metadata": {},
   "outputs": [
    {
     "data": {
      "text/markdown": [
       "The marginal probability of an alarm is $P(A=1)=0.002$"
      ],
      "text/plain": [
       "<IPython.core.display.Markdown object>"
      ]
     },
     "metadata": {},
     "output_type": "display_data"
    }
   ],
   "source": [
    "p_A = p.sum(axis = (B, E))[1]\n",
    "\n",
    "display(\n",
    "    Markdown(\n",
    "        f\"The marginal probability of an alarm is $P(A=1)={p_A:.3f}$\"\n",
    "    )\n",
    ")"
   ]
  },
  {
   "cell_type": "code",
   "execution_count": 104,
   "id": "597a4731-40d5-4bdf-991c-9a5783ed8235",
   "metadata": {},
   "outputs": [
    {
     "data": {
      "text/markdown": [
       "The posterier for Breakin and/or Earthquake given an alarm is $$p(B,E\\mid A) =\\begin{bmatrix}\n",
       "    0.50 &    0.01\\\\\n",
       "    0.49 &    0.00\n",
       "\\end{bmatrix},$$with marginal conditionals given by $$p(E\\mid A)=0.495\\quad \\ text{and} \\quad p(E \\mid A)=0.0060.$$The marginal given alarm *and* radio announcement is $p(B=1 \\mid E=1,A=1) = 0.00$."
      ],
      "text/plain": [
       "<IPython.core.display.Markdown object>"
      ]
     },
     "metadata": {},
     "output_type": "display_data"
    }
   ],
   "source": [
    "p_EB_A = (p / p.sum(axis = (B, E), keepdims = True))[1,:,:]\n",
    "p_B_A = p_EB_A.sum(axis = 1)[1]\n",
    "p_E_A = p_EB_A.sum(axis = 0)[1]\n",
    "\n",
    "p_B_EA = p_EB_A[1,1] / p_EB_A[1, :].sum()\n",
    "\n",
    "display(\n",
    "    Markdown(\n",
    "        \"The posterier for Breakin and/or Earthquake given an alarm is $$p(B,E\\mid A) =\"\n",
    "        + ltx (p_EB_A)\n",
    "        + \",$$\"\n",
    "        + \"with marginal conditionals given by $$p(E\\mid A)=\"\n",
    "        + f\"{p_B_A:.3f}\"\n",
    "        + \"\\\\quad \\\\ text{and} \\\\quad p(E \\mid A)=\"\n",
    "        + f\"{p_E_A:.4f}\"\n",
    "        + \".$$\"\n",
    "        + \"The marginal given alarm *and* radio announcement is $p(B=1 \\mid E=1,A=1) = \"\n",
    "        + f\"{p_B_EA:.2f}\"\n",
    "        + \"$.\"\n",
    "    )\n",
    ")"
   ]
  },
  {
   "cell_type": "code",
   "execution_count": null,
   "id": "e4aee276-dd53-44db-81d8-d567ea8052cc",
   "metadata": {},
   "outputs": [],
   "source": []
  },
  {
   "cell_type": "code",
   "execution_count": null,
   "id": "55689b0f-54fd-4da5-a8c2-a318dd1f371e",
   "metadata": {},
   "outputs": [],
   "source": []
  }
 ],
 "metadata": {
  "kernelspec": {
   "display_name": "Python 3 (ipykernel)",
   "language": "python",
   "name": "python3"
  },
  "language_info": {
   "codemirror_mode": {
    "name": "ipython",
    "version": 3
   },
   "file_extension": ".py",
   "mimetype": "text/x-python",
   "name": "python",
   "nbconvert_exporter": "python",
   "pygments_lexer": "ipython3",
   "version": "3.11.2"
  }
 },
 "nbformat": 4,
 "nbformat_minor": 5
}
